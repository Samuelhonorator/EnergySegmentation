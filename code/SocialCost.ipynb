{
 "cells": [
  {
   "cell_type": "code",
   "execution_count": 1,
   "id": "8ed36a56-00b8-4f0c-a058-978dfbf40d1f",
   "metadata": {},
   "outputs": [
    {
     "name": "stderr",
     "output_type": "stream",
     "text": [
      "┌ Info: Precompiling Symbolics [0c5d862f-8b57-4792-8d23-62f2024744c7]\n",
      "└ @ Base loading.jl:1342\n"
     ]
    },
    {
     "data": {
      "text/latex": [
       "\\begin{equation}\n",
       "\\left[\n",
       "\\begin{array}{c}\n",
       "\\theta \\\\\n",
       "\\theta_{s} \\\\\n",
       "c \\\\\n",
       "d \\\\\n",
       "\\end{array}\n",
       "\\right]\n",
       "\\end{equation}\n"
      ],
      "text/plain": [
       "4-element Vector{Num}:\n",
       "   θ\n",
       " θ_s\n",
       "   c\n",
       "   d"
      ]
     },
     "execution_count": 1,
     "metadata": {},
     "output_type": "execute_result"
    }
   ],
   "source": [
    "using Symbolics\n",
    "@variables θ θ_s c d"
   ]
  },
  {
   "cell_type": "code",
   "execution_count": 5,
   "id": "b10d5800-3637-4676-8c93-e5b18a5c59a6",
   "metadata": {},
   "outputs": [
    {
     "data": {
      "text/latex": [
       "\\begin{equation}\n",
       "\\left(  - d + \\frac{\\left|\\theta - \\theta_{s}\\right|}{\\theta_{s}} \\right)^{2} c\n",
       "\\end{equation}\n"
      ],
      "text/plain": [
       "c*((abs(θ - θ_s) / θ_s - d)^2)"
      ]
     },
     "execution_count": 5,
     "metadata": {},
     "output_type": "execute_result"
    }
   ],
   "source": [
    "Social_Cost=c*(abs(θ-θ_s)/θ_s-d)^2"
   ]
  },
  {
   "cell_type": "code",
   "execution_count": 7,
   "id": "2296dc9a-03d7-4ffb-99d3-b508994d3164",
   "metadata": {},
   "outputs": [
    {
     "data": {
      "text/plain": [
       "(::Differential) (generic function with 2 methods)"
      ]
     },
     "execution_count": 7,
     "metadata": {},
     "output_type": "execute_result"
    }
   ],
   "source": [
    "Dθ=Differential(θ)"
   ]
  },
  {
   "cell_type": "code",
   "execution_count": 8,
   "id": "2745e25c-1408-414b-99c7-68eacfc1dcf1",
   "metadata": {},
   "outputs": [
    {
     "data": {
      "text/latex": [
       "\\begin{equation}\n",
       "\\mathrm{\\frac{d}{d \\theta}}\\left( \\left(  - d + \\frac{\\left|\\theta - \\theta_{s}\\right|}{\\theta_{s}} \\right)^{2} c \\right)\n",
       "\\end{equation}\n"
      ],
      "text/plain": [
       "Differential(θ)(c*((abs(θ - θ_s) / θ_s - d)^2))"
      ]
     },
     "execution_count": 8,
     "metadata": {},
     "output_type": "execute_result"
    }
   ],
   "source": [
    "Dθ(Social_Cost)"
   ]
  },
  {
   "cell_type": "code",
   "execution_count": 11,
   "id": "627b65ae-94d6-47bf-a1cf-cbdb68710c75",
   "metadata": {},
   "outputs": [
    {
     "data": {
      "text/latex": [
       "\\begin{equation}\n",
       "\\frac{c \\left(  - 2 d + \\frac{2 \\left|\\theta - \\theta_{s}\\right|}{\\theta_{s}} \\right) \\mathrm{ifelse}\\left( \\mathrm{signbit}\\left( \\theta - \\theta_{s} \\right), -1, 1 \\right)}{\\theta_{s}}\n",
       "\\end{equation}\n"
      ],
      "text/plain": [
       "(c*((2abs(θ - θ_s)) / θ_s - 2d)*IfElse.ifelse(signbit(θ - θ_s), -1, 1)) / θ_s"
      ]
     },
     "execution_count": 11,
     "metadata": {},
     "output_type": "execute_result"
    }
   ],
   "source": [
    "dSocial_Cost=expand_derivatives(Dθ(Social_Cost))"
   ]
  },
  {
   "cell_type": "code",
   "execution_count": 12,
   "id": "e1354b48-9a7e-49b8-a37b-778868ecbec4",
   "metadata": {},
   "outputs": [
    {
     "data": {
      "text/latex": [
       "\\begin{equation}\n",
       "\\frac{c \\left( 0.04081632653061224 - 2 d \\right)}{98}\n",
       "\\end{equation}\n"
      ],
      "text/plain": [
       "(c*(0.04081632653061224 - 2d)) / 98"
      ]
     },
     "execution_count": 12,
     "metadata": {},
     "output_type": "execute_result"
    }
   ],
   "source": [
    "substitute(dSocial_Cost,(Dict(θ=>100,θ_s=>98)))"
   ]
  }
 ],
 "metadata": {
  "kernelspec": {
   "display_name": "Julia 1.6.2",
   "language": "julia",
   "name": "julia-1.6"
  },
  "language_info": {
   "file_extension": ".jl",
   "mimetype": "application/julia",
   "name": "julia",
   "version": "1.6.2"
  }
 },
 "nbformat": 4,
 "nbformat_minor": 5
}
