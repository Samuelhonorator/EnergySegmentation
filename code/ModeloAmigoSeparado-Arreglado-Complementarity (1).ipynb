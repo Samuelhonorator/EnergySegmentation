{
 "cells": [
  {
   "cell_type": "code",
   "execution_count": null,
   "id": "781a36d5",
   "metadata": {},
   "outputs": [],
   "source": [
    "#Sets\n",
    "\n",
    "\n",
    "tau3_i=[0 0 0 1 2 3 4 5 6 7 8 9 10 11 12 13 14 15 16 17 18 19 20 21 22 23 24 25 26 27 28 29; 0 0 0 0 1 2 3 4 5 6 7 8 9 10 11 12 13 14 15 16 17 18 19 20 21 22 23 24 25 26 27 28; 0 0 1 2 3 4 5 6 7 8 9 10 11 12 13 14 15 16 17 18 19 20 21 22 23 24 25 26 27 28 29 30; 0 0 1 2 3 4 5 6 7 8 9 10 11 12 13 14 15 16 17 18 19 20 21 22 23 24 25 26 27 28 29 30; 0 0 0 0 1 2 3 4 5 6 7 8 9 10 11 12 13 14 15 16 17 18 19 20 21 22 23 24 25 26 27 28; 0 0 0 0 0 0 1 2 3 4 5 6 7 8 9 10 11 12 13 14 15 16 17 18 19 20 21 22 23 24 25 26; 0 0 0 0 0 1 2 3 4 5 6 7 8 9 10 11 12 13 14 15 16 17 18 19 20 21 22 23 24 25 26 27; 0 0 0 1 2 3 4 5 6 7 8 9 10 11 12 13 14 15 16 17 18 19 20 21 22 23 24 25 26 27 28 29; 0 0 1 2 3 4 5 6 7 8 9 10 11 12 13 14 15 16 17 18 19 20 21 22 23 24 25 26 27 28 29 30; 0 1 2 3 4 5 6 7 8 9 10 11 12 13 14 15 16 17 18 19 20 21 22 23 24 25 26 27 28 29 30 31];\n",
    "tauAlpha_i=[4 5 6 7 8 9 10 11 12 13 14 15 16 17 18 19 20 21 22 23 24 25 26 27 28 29 30 31 32 0 0 0; 5 6 7 8 9 10 11 12 13 14 15 16 17 18 19 20 21 22 23 24 25 26 27 28 29 30 31 32 0 0 0 0; 3 4 5 6 7 8 9 10 11 12 13 14 15 16 17 18 19 20 21 22 23 24 25 26 27 28 29 30 31 32 0 0; 3 4 5 6 7 8 9 10 11 12 13 14 15 16 17 18 19 20 21 22 23 24 25 26 27 28 29 30 31 32 0 0; 5 6 7 8 9 10 11 12 13 14 15 16 17 18 19 20 21 22 23 24 25 26 27 28 29 30 31 32 0 0 0 0; 7 8 9 10 11 12 13 14 15 16 17 18 19 20 21 22 23 24 25 26 27 28 29 30 31 32 0 0 0 0 0 0; 6 7 8 9 10 11 12 13 14 15 16 17 18 19 20 21 22 23 24 25 26 27 28 29 30 31 32 0 0 0 0 0; 4 5 6 7 8 9 10 11 12 13 14 15 16 17 18 19 20 21 22 23 24 25 26 27 28 29 30 31 32 0 0 0; 3 4 5 6 7 8 9 10 11 12 13 14 15 16 17 18 19 20 21 22 23 24 25 26 27 28 29 30 31 32 0 0; 2 3 4 5 6 7 8 9 10 11 12 13 14 15 16 17 18 19 20 21 22 23 24 25 26 27 28 29 30 31 32 0];\n",
    "tau2_i=[30, 29, 31, 31, 29, 27, 28, 30, 31, 32]\n",
    "#Tecnologias:\n",
    "#Biomasa=1\n",
    "#\"Carbon 2\n",
    "#\"Eolica 3\n",
    "#\"Gas\",  4\n",
    "#\"Geotermica\" 5\n",
    "#\"HidroEmbalse\", 6\n",
    "#\"HidroPasada\", 7\n",
    "#\"HidroMiniPasada\", 8\n",
    "#\"PetroleoDiesel\", 9\n",
    "#\"Solar\" 10\n",
    "\n",
    "#Años tau in 1:32\n",
    "#1 = 2019\n",
    "#2 = 2020\n",
    "#3=2021\n",
    "#...\n",
    "#32 = 2050\n",
    "\n",
    "#escenarios w in 1:5\n",
    "#1 = escenario 1\n",
    "# ...\n",
    "#5 = escenario 5\n",
    "\n",
    "\n",
    "#Parametros\n",
    "PhiRisk=0.9;\n",
    "Std=0;\n",
    "mean =100000000;\n",
    "R=0.01;\n",
    "t_year=8760;\n",
    "\n",
    "#Cost of operations\n",
    "#Filas tecnologias, columnas años\n",
    "TCitau2=[1.00        1.00        1.00        1.00        1.00        1.00        1.00        1.00        1.00        1.00        1.00        1.00        1.00        1.00        1.00        1.00        1.00        1.00        1.00        1.00        1.00        1.00        1.00        1.00        1.00        1.00        1.00        1.00        1.00        1.00        1.00        1.00\n",
    ";           0.99        0.97        0.95        0.95        0.90        0.88        0.88        0.88        0.88        0.88        0.84        0.82        0.80        0.77        0.75        0.73        0.72        0.70        0.68        0.67        0.66        0.65        0.65        0.65        0.64        0.62        0.60        0.60        0.60        0.60        0.60        0.60\n",
    ";           1.00        0.97        0.94        0.91        0.75        0.70        0.65        0.60        0.55        0.50        0.45        0.40        0.35        0.30        0.28        0.28        0.28        0.22        0.19        0.18        0.16        0.14        0.14        0.14        0.13        0.11        0.10        0.09        0.08        0.07        0.06        0.05\n",
    ";              1.00        1.00        1.00        1.00        1.00        1.00        1.00        1.00        1.00        1.00        1.00        1.00        1.00        1.00        1.00        1.00        1.00        1.00        1.00        1.00        1.00        1.00        1.00        1.00        1.00        1.00        1.00        1.00        1.00        1.00        1.00        1.00\n",
    ";       1.00        0.99        0.98        0.97        0.96        0.95        0.94        0.93        0.92        0.91        0.90        0.90        0.89        0.88        0.87        0.86        0.85        0.84        0.83        0.83        0.82        0.81        0.80        0.79        0.79        0.78        0.77        0.75        0.70        0.60        0.50        0.40\n",
    ";     1.00        0.97        0.94        0.91        0.89        0.86        0.83        0.81        0.78        0.76        0.74        0.72        0.69        0.67        0.65        0.63        0.62        0.60        0.59        0.57        0.56        0.50        0.50        0.45        0.45        0.40        0.30        0.25        0.20        0.15        0.10        0.10\n",
    ";      1.00        1.00        1.00        1.00        1.00        1.00        1.00        1.00        1.00        1.00        1.00        1.00        1.00        1.00        1.00        1.00        1.00        1.00        1.00        1.02        1.02        1.02        1.00        1.00        1.00        1.00        1.00        1.00        1.00        0.95        0.95        0.95\n",
    ";  1.00        1.00        1.00        1.00        1.00        1.00        1.00        1.00        1.00        1.00        1.00        1.00        1.00        1.00        1.00        1.00        1.00        1.00        1.00        1.02        1.02        1.02        1.02        1.02        1.02        1.00        1.00        1.00        1.00        1.00        0.95        0.95\n",
    ";   1.00        0.97        0.94        0.91        0.89        0.86        0.83        0.81        0.78        0.76        0.74        0.72        0.69        0.67        0.65        0.63        0.62        0.60        0.59        0.57        0.56        0.54        0.53        0.52        0.50        0.48        0.46        0.44        0.42        0.40        0.39        0.37\n",
    ";            1.00        0.97        0.94        0.90        0.82        0.75        0.65        0.55        0.45        0.35        0.30        0.28        0.26        0.25        0.24        0.22        0.21        0.20        0.18        0.17        0.15        0.14        0.12        0.10        0.09        0.08        0.07        0.06        0.05        0.04        0.03        0.02];\n",
    "\n",
    "#Cost of operations\n",
    "#Filas tecnologias, columnas años\n",
    "TCRitau2=[1.0   1.0   1.0   1.0   1.0   1.0   1.0   1.0   1.0   1.0   1.0   1.0   1.0   1.0   1.0   1.0   1.0   1.0   1.0   1.0   1.0   1.0   1.0   1.0   1.0   1.0   1.0   0.18  0.17  0.10  0.10  0.10\n",
    ";1.0   1.0   1.0   1.0   1.0   1.0   1.0   1.0   1.0   1.0   1.0   1.0   1.0   1.0   1.0   1.0   1.0   1.0   1.0   1.0   1.0   1.0   1.0   1.0   1.0   1.0   1.0   1.0   1.0   1.0   1.0   1.0\n",
    ";1.00  0.95  0.90  0.86  0.81  0.77  0.74  0.70  0.66  0.63  0.60  0.57  0.54  0.51  0.49  0.46  0.44  0.42  0.40  0.38  0.36  0.34  0.32  0.31  0.30  0.25  0.25  0.20  0.20  0.20  0.20  0.20\n",
    ";1.0   1.0   1.0   1.0   1.0   1.0   1.0   1.0   1.0   1.0   1.0   1.0   1.0   1.0   1.0   1.0   1.0   1.0   1.0   1.0   1.0   1.0   1.0   1.0   1.0   1.0   1.0   1.0   1.0   1.0   1.0   1.0\n",
    ";1.0   1.0   1.0   1.0   1.0   1.0   1.0   1.0   1.0   1.0   1.0   1.0   1.0   1.0   1.0   1.0   1.0   1.0   1.0   1.0   1.0   1.0   1.0   1.0   1.0   1.0   1.0   1.0   1.0   1.0   1.0   1.0\n",
    ";1.0   1.0   1.0   1.0   1.0   1.0   1.0   1.0   1.0   1.0   1.0   1.0   1.0   1.0   1.0   1.0   1.0   1.0   1.0   1.0   1.0   1.0   1.0   0.45  0.45  0.45  0.45  0.45  0.45  0.45  0.45  0.45\n",
    ";1.0   1.0   1.0   1.0   1.0   1.0   1.0   1.0   1.0   1.0   1.0   1.0   1.0   1.0   1.0   1.0   1.0   1.0   1.0   1.0   1.0   1.0   1.0   0.45  0.45  0.45  0.45  0.45  0.45  0.45  0.45  0.45\n",
    ";1.0   1.0   1.0   1.0   1.0   1.0   1.0   1.0   1.0   1.0   1.0   1.0   1.0   1.0   1.0   1.0   1.0   1.0   1.0   1.0   1.0   1.0   1.0   0.45  0.45  0.45  0.45  0.45  0.45  0.45  0.45  0.45\n",
    ";1.00  1.02  1.04  1.06  1.08  1.10  1.13  1.15  1.17  1.20  1.22  1.24  1.27  1.29  1.32  1.35  1.00  1.00  1.00  1.00  1.00  1.00  1.00  1.00  1.00  1.00  1.00  1.00  1.00  1.00  1.00  1.00\n",
    ";1.00  0.95  0.90  0.86  0.81  0.77  0.74  0.70  0.66  0.63  0.60  0.57  0.54  0.51  0.49  0.46  0.44  0.42  0.40  0.38  0.36  0.34  0.33  0.32  0.31  0.28  0.25  0.18  0.17  0.10  0.10  0.10];\n",
    "\n",
    "#Inversión inicial USD/MW de cada tecnologia i\n",
    "Inv=[3253000,3000000,1361000,800000,5870000,2180000,4050000,3565000,687000,2000000];\n",
    "\n",
    "#Costo fijo del porcentaje de inversion de cada tecnologia i\n",
    "percent=[0.025,0.01,0.03,0.01,0.04,0.01,0.01,0.01,0.01,0.04];\n",
    "\n",
    "#Factor de capacidad tec i\n",
    "CF=[0.55,0.99,0.23,0.6,0.65,0.39,0.43,0.39,0.9,0.24];\n",
    "\n",
    "#Potencial de cada tecnologia i en MW\n",
    "RP=[2000*32,1000000000000000,37477*32,1000000000000000,662*32,4521*32,4293*32,3958*32,1000000000000000,1263407*32];\n",
    "\n",
    "#Capacidad instalada enMW por tec i\n",
    "Q_bar=[506.78,5146.76,1926.42,4947.9,39.7,3354.64,2811.88,549.07,3193.99,2594.04];\n",
    "\n",
    "#Costo de operacion en USD/MWh (costo marginal) por tec i\n",
    "C=[1.96933833671687E-06,1.33303524353771E-06,9.99458928846788E-06,3.902380826484435E-06,0,3.39441468056401E-06,3.59657572455631E-06,2.098554787741294E-05,0.000145855322005,5.99258864134709E-06];\n",
    "\n",
    "#costo fijo, intercepto en funcion de costo marginal\n",
    "intercept=[9.43,3.42,9.9,0.91,10.80,6.49,4.62,4.07,0.78,9.13];\n",
    "\n",
    "#  Emission factor of technology i\n",
    "epsilon=[0,0.91,0,0.65,0,0,0,0,0.91,0];\n",
    "\n",
    "#Demanda \n",
    "D1=69585630; #demanda 2018\n",
    "D2=[8.65064695e7 9.02033272e7 9.39001848e7 9.90757856e7 1.0203e8 1.0795e8 1.146e8 1.1682e8 1.2126e8 1.2348e8 1.2495e8 1.2865e8 1.3161e8 1.3457e8 1.3678e8 1.3974e8 1.4122e8 1.4344e8 1.4566e8 1.4713e8 1.4861e8 1.4935e8 1.5157e8 1.5305e8 1.5527e8 1.5601e8 1.5823e8 1.5896e8 1.6044e8 1.6192e8 1.634e8 1.6488e8; \n",
    "9.09426987e7 9.53789279e7 9.98151571e7 1.0573e8 1.0943e8 1.1534e8 1.2052e8 1.2274e8 1.2717e8 1.2865e8 1.3087e8 1.3383e8 1.3752e8 1.3974e8 1.427e8 1.4566e8 1.4787e8 1.5009e8 1.5231e8 1.5527e8 1.5675e8 1.5896e8 1.6118e8 1.634e8 1.6562e8 1.6784e8 1.6932e8 1.7153e8 1.7227e8 1.7375e8 1.7449e8 1.7523e8; \n",
    "8.5767098e7 8.94639556e7 9.39001848e7 9.8336414e7 1.0203e8 1.0795e8 1.1534e8 1.183e8 1.2126e8 1.2421e8 1.3013e8 1.3235e8 1.3604e8 1.4048e8 1.427e8 1.464e8 1.4861e8 1.5157e8 1.5601e8 1.597e8 1.634e8 1.6636e8 1.7006e8 1.7301e8 1.7597e8 1.7819e8 1.8115e8 1.8484e8 1.8706e8 1.8928e8 1.915e8 1.9298e8; \n",
    "9.90757856e7 1.0425e8 1.0795e8 1.1534e8 1.1756e8 1.2126e8 1.2569e8 1.2791e8 1.3235e8 1.3678e8 1.3974e8 1.4344e8 1.4787e8 1.5157e8 1.5601e8 1.5896e8 1.6266e8 1.6562e8 1.6858e8 1.7153e8 1.7375e8 1.7597e8 1.7819e8 1.8041e8 1.8336e8 1.8558e8 1.878e8 1.9002e8 1.9224e8 1.9445e8 1.9741e8 1.9963e8; \n",
    "8.35489834e7 8.79852126e7 9.24214418e7 9.6857671e7 9.98151571e7 1.0573e8 1.1017e8 1.1091e8 1.146e8 1.1608e8 1.1682e8 1.2052e8 1.2274e8 1.2421e8 1.2569e8 1.2717e8 1.2939e8 1.3087e8 1.3309e8 1.353e8 1.3678e8 1.3826e8 1.4048e8 1.4196e8 1.4344e8 1.4492e8 1.464e8 1.4713e8 1.4713e8 1.4787e8 1.4861e8 1.4861e8];\n",
    "\n",
    "\n",
    "# decision de inversión dada (i,tau2) tecnologia i en periodos tau2\n",
    "#filas tec, columnas años \n",
    "Q_barT2=[5.5   0     0     0     0     0     0     0     0     0     0     0     0     0     0     0     0     0     0     0     0     0     0     0     0     0     0     0     0     0     0     0;\n",
    "0     0     0     0     0     0     0     0     0     0     0     0     0     0     0     0     0     0     0     0     0     0     0     0     0     0     0     0     0     0     0     0;\n",
    "224.4 288   78.1  0     0     0     0     0     0     0     0     0     0     0     0     0     0     0     0     0     0     0     0     0     0     0     0     0     0     0     0     0;\n",
    "50    0     0     0     0     0     0     0     0     0     0     0     0     0     0     0     0     0     0     0     0     0     0     0     0     0     0     0     0     0     0     0;\n",
    "0     0     0     0     0     0     0     0     0     0     0     0     0     0     0     0     0     0     0     0     0     0     0     0     0     0     0     0     0     0     0     0;\n",
    "0     0     0     0     0     0     0     0     0     0     0     0     0     0     0     0     0     0     0     0     0     0     0     0     0     0     0     0     0     0     0     0;\n",
    "53.4  726   6.5   136   0     170   0     0     0     0     0     0     0     0     0     0     0     0     0     0     0     0     0     0     0     0     0     0     0     0     0     0;\n",
    "0     0     0     0     0     0     0     0     0     0     0     0     0     0     0     0     0     0     0     0     0     0     0     0     0     0     0     0     0     0     0     0;\n",
    "284   266.9 0     0     0     0     0     0     0     0     0     0     0     0     0     0     0     0     0     0     0     0     0     0     0     0     0     0     0     0     0     0;\n",
    "269.4 351.5 0     0     0     0     0     0     0     0     0     0     0     0     0     0     0     0     0     0     0     0     0     0     0     0     0     0     0     0     0     0\n",
    "];"
   ]
  },
  {
   "cell_type": "code",
   "execution_count": null,
   "id": "340ca2d2",
   "metadata": {},
   "outputs": [],
   "source": [
    "using JuMP,Complementarity\n",
    "\n",
    "using PATHSolver\n",
    "PATHSolver.c_api_License_SetString(\"2830898829&Courtesy&&&USR&45321&5_1_2021&1000&PATH&GEN&31_12_2025&0_0_0&6000&0_0\")\n",
    "\n",
    "m=MCPModel()\n",
    "\n",
    "tecnologias=10\n",
    "periodos=32\n",
    "escenarios=5\n",
    "Prob=[(1/escenarios),(1/escenarios),(1/escenarios),(1/escenarios),(1/escenarios)]\n",
    "\n",
    "#Variables\n",
    "@variable(m, x_first[i in 1:tecnologias]>=0)                                   #first capacity investment decision\n",
    "@variable(m, x_next[i in 1:tecnologias,tau2 in 1:periodos,w in 1:escenarios]>=0)         #next capacity investment decision\n",
    "@variable(m, Q_first[i in 1:tecnologias]>=0)                                  #produced quantity in first stage in MWh\n",
    "@variable(m, Q_second[i in 1:tecnologias,tau2 in 1:periodos,w in 1:escenarios]>=0 )      #produced quantity in second stage in MWh\n",
    "@variable(m, A[i in 1:tecnologias]>=0)                                         #emissions allowances\n",
    "@variable(m, V[i in 1:tecnologias,w in 1:escenarios]>=0 )                               #sold permits\n",
    "@variable(m, P[w in 1:escenarios, i in 1:tecnologias,j in 1:tecnologias; i != j]>=0)               #purchased permits\n",
    "\n",
    "@variable(m, pi_a >= 0)                                                      #dual to CAP constraint\n",
    "@variable(m, pi_d >=0)                                                  #dual to demand equilibrium in first stage\n",
    "@variable(m, pi2_d[tau2 in 1:periodos,w in 1:escenarios]>=0)                           #dual to demand equilibrium in second stage\n",
    "\n",
    "@variable(m, pi_v[i in 1:tecnologias,w in 1:escenarios]>=0)                            #price of sold permits per producer\n",
    "\n",
    "#lagrange multipliers\n",
    "#Producer\n",
    "@variable(m, alpha[i in 1:tecnologias,w in 1:escenarios,tau2 in 1:periodos]>=0)           #dual to second stage capacity constraint\n",
    "@variable(m, kappa[i in 1:tecnologias]>=0)                                   #dual to first stage capacity constraint\n",
    "@variable(m, beta[i in 1:tecnologias,w in 1:escenarios]>=0)                                       #dual to sold allowances\n",
    "@variable(m, gamma[i in 1:tecnologias,w in 1:escenarios ]>=0)                                    #dual to total allowances in the market\n",
    "#@variable(m, delta[i in 1:tecnologias,tau2 in 1:periodos, w in 1:escenarios]>=0)                   #dual to capacity feasibility tau2\n",
    "#@variable(m, lambda[i in 1:tecnologias]>=0)                                   #dual to capacity feasibility tau1\n",
    "\n",
    "@variable(m, psi[i in 1:tecnologias,w in 1:escenarios]>=0)\n",
    "\n",
    "#@variable(m, xi[i in 1:tecnologias]>=0)\n",
    "#@variable(m, varphi[i in 1:tecnologias,w in 1:escenarios,tau2 in 1:periodos]>=0)  \n",
    "\n",
    "\n",
    "#@variable(m, u[i in 1:tecnologias,w in 1:escenarios,tau2 in 1:periodos]>=0 )            #dual to capacity expansion first\n",
    "\n",
    "\n",
    "#Auctioneer \n",
    "@variable(m, eta >=0)                                                           #dual to allowances constraints\n",
    "#@variable(m, mu  >=0)                                                           #dual to allowances feasibility\n",
    "@variable(m, theta>=0)                                                          #allowances regulated by the auctioneer\n"
   ]
  },
  {
   "cell_type": "markdown",
   "id": "814f2fc8",
   "metadata": {},
   "source": [
    "## Restricciones"
   ]
  },
  {
   "cell_type": "code",
   "execution_count": null,
   "id": "bb90b03f",
   "metadata": {
    "scrolled": true
   },
   "outputs": [],
   "source": [
    "#Complementariedad 1 first capacity investment y xi\n",
    "@mapping(m, kkt_x_first_producer[i in 1:tecnologias], Inv[i]*(1+percent[i]) + sum(psi[i,w] for w in 1:escenarios) - CF[i]*t_year*sum(sum(alpha[i,w,tau2] for tau2 in 1:periodos) for w in 1:escenarios))    #para cada i tecnologia\n",
    "#@constraint(m,  mayor1[i in 1:tecnologias], x_first[i]>=0)\n",
    "@complementarity(m, kkt_x_first_producer, x_first)\n"
   ]
  },
  {
   "cell_type": "code",
   "execution_count": null,
   "id": "5f262c94",
   "metadata": {},
   "outputs": [],
   "source": [
    "#Complementariedad 2 next capacity investment decision  y varphi\n",
    "@mapping(m, kkt_x_second_producer[i in 1:tecnologias, tau2 in 1:periodos, w in 1:escenarios], (1/((1+R)^tau2))*Prob[w]*Inv[i]*(1+percent[i])*TCRitau2[i,tau2] - CF[i]*t_year*sum(alpha[i,w,tau3] for tau3 in tauAlpha_i[i,tau2]:periodos if tauAlpha_i[i,tau2]>0) + psi[i,w] )\n",
    "#@constraint(m, mayor2[i in 1:tecnologias, tau2 in 1:periodos, w in 1:escenarios], x_next[i,tau2,w]>=0 )\n",
    "@complementarity(m, kkt_x_second_producer, x_next)\n"
   ]
  },
  {
   "cell_type": "code",
   "execution_count": null,
   "id": "916d5c61",
   "metadata": {},
   "outputs": [],
   "source": [
    "#Complementariedad 3 con kkt de cantidad de operacion  en el primer perido con la cantidad producida en la primera etapa con variable con i tec  \n",
    "@mapping(m, kkt_q1_producer[i in 1:tecnologias], (intercept[i] + C[i]*Q_first[i]) - pi_d + kappa[i] + sum(gamma[i,w]*epsilon[i] for w in 1:escenarios) )\n",
    "#@constraint(m, mayor3[i in 1:tecnologias], Q_first[i]>= 0)\n",
    "@complementarity(m, kkt_q1_producer, Q_first)\n"
   ]
  },
  {
   "cell_type": "code",
   "execution_count": null,
   "id": "033b62da",
   "metadata": {},
   "outputs": [],
   "source": [
    "#Complementariedad 4 sobre kkt de produccion en segunda etapa con variable de produccion de segunda etapa de i tecnologias en tau2 periodos en w escenarios\n",
    "@mapping(m, kkt_qtau_producer[i in 1:tecnologias, tau2 in 1:periodos, w in 1:escenarios], (1/((1+R)^tau2))*Prob[w]*((TCitau2[i,tau2]*(intercept[i] + C[i]*Q_second[i,tau2,w])) - pi2_d[tau2,w]) + alpha[i,w,tau2] + gamma[i,w]*epsilon[i])\n",
    "#@constraint(m, mayor4[i in 1:tecnologias, tau2 in 1:periodos, w in 1:escenarios], Q_second[i,tau2,w] >= 0)\n",
    "@complementarity(m, kkt_qtau_producer, Q_second)\n"
   ]
  },
  {
   "cell_type": "code",
   "execution_count": null,
   "id": "fa0c52f6",
   "metadata": {},
   "outputs": [],
   "source": [
    "#Complementariedad 5 sobre kkt de compra de permisos Ai comprados para tec i en primera etapa\n",
    "@mapping(m, kkt_A_producer[i in 1:tecnologias], pi_a - sum(beta[i,w] for w in 1:escenarios) - sum(gamma[i,w] for w in 1:escenarios) )\n",
    "#@constraint(m, mayor5[i in 1:tecnologias], A[i] >= 0)\n",
    "@complementarity(m, kkt_A_producer, A)\n"
   ]
  },
  {
   "cell_type": "code",
   "execution_count": null,
   "id": "ef55ad19",
   "metadata": {},
   "outputs": [],
   "source": [
    "#Complementariedad 6 sobre kkt de venta de permisos en segunda etapa para cada escenario\n",
    "@mapping(m, kkt_V_producer[i in 1:tecnologias, w in 1:escenarios], (-1)*Prob[w]*pi_v[i,w] + beta[i,w] + gamma[i,w])\n",
    "#@constraint(m, mayor6[i in 1:tecnologias, w in 1:escenarios], V[i,w] >= 0)\n",
    "@complementarity(m, kkt_V_producer, V)\n"
   ]
  },
  {
   "cell_type": "code",
   "execution_count": null,
   "id": "d34b40dc",
   "metadata": {},
   "outputs": [],
   "source": [
    "#Complementariedad 7 sobre kkt de compra de permisos Pi(w) en mercado de permisos  \n",
    "#Estar seguro de que lo que se está haciendo en la kkt de gams linea 670 es elegir un i distinto de j\n",
    "\n",
    "#@constraint(m, mayor7[w in 1:escenarios, i = 1:tecnologias, j = 1:tecnologias; i != j ], P[i,j,w] >= 0)   \n",
    "@mapping(m, kkt_P_producer[w in 1:escenarios, i = 1:tecnologias, j = 1:tecnologias; i != j], Prob[w]*pi_v[j,w] - gamma[i,w])\n",
    "for i in 1:tecnologias\n",
    "    for j in 1:tecnologias\n",
    "        for w in 1:escenarios\n",
    "            if i!=j    \n",
    "            @complementarity(m, kkt_P_producer[w,i,j], P[w,i,j])\n",
    "            end\n",
    "        end         \n",
    "    end\n",
    "end"
   ]
  },
  {
   "cell_type": "code",
   "execution_count": null,
   "id": "e58299de",
   "metadata": {},
   "outputs": [],
   "source": [
    "# Complementariedad de la primera restriccionn del problema del productor\n",
    "#revisar si los index de esta restriccion (estan distintos a los otros ya que son i,w,tau2 en vez de i,tau2,w)\n",
    "@mapping(m, capacity_stage_2_xnext[i in 1:tecnologias, w in 1:escenarios, tau2 in 1:periodos], CF[i]*t_year*(sum(x_next[i,tau3,w] for tau3 in 1:tau3_i[i,tau2]) + x_first[i] + Q_barT2[i,tau2] + Q_bar[i] ) - Q_second[i,tau2,w])  \n",
    "#@constraint(m, mayor71[i in 1:tecnologias,w in 1:escenarios,tau2 in 1:periodos], alpha[i,w,tau2] >= 0)\n",
    "@complementarity(m, capacity_stage_2_xnext, alpha)\n"
   ]
  },
  {
   "cell_type": "code",
   "execution_count": null,
   "id": "73ae78b0",
   "metadata": {},
   "outputs": [],
   "source": [
    "#Complementariead segunda restriccion problema del productor y dual kappa\n",
    "@mapping(m, capacity_stage_1[i in 1:tecnologias], CF[i]*t_year*Q_bar[i] - Q_first[i])\n",
    "#@constraint(m, mayor8[i in 1:tecnologias], kappa[i] >= 0 )\n",
    "@complementarity(m, capacity_stage_1, kappa)\n"
   ]
  },
  {
   "cell_type": "code",
   "execution_count": null,
   "id": "ec8d1180",
   "metadata": {},
   "outputs": [],
   "source": [
    "#Complementariedad tercera restriccion problema productor y dual psi\n",
    "@mapping(m, resource_potential[i in 1:tecnologias, w in 1:escenarios], (-1)*Q_bar[i] - x_first[i] - sum( x_next[i,tau2, w] for tau2 in 1:periodos) + sum(Q_barT2[i,tau2] for tau2 in 1:periodos) + RP[i] )\n",
    "#@constraint(m, mayor9[i in 1:tecnologias, w in 1:escenarios], psi[i,w] >= 0 )\n",
    "@complementarity(m, resource_potential, psi)\n"
   ]
  },
  {
   "cell_type": "code",
   "execution_count": null,
   "id": "6e12b4fe",
   "metadata": {},
   "outputs": [],
   "source": [
    "#Complementariedad cuarta restriccion problema productor y dual beta\n",
    "@mapping(m, trading_permits[i in 1:tecnologias, w in 1:escenarios], A[i] - V[i,w])\n",
    "#@constraint(m, mayor10[i in 1:tecnologias, w in 1:escenarios], beta[i,w]>=0)\n",
    "@complementarity(m, trading_permits, beta)\n"
   ]
  },
  {
   "cell_type": "code",
   "execution_count": null,
   "id": "e5c037a3",
   "metadata": {},
   "outputs": [],
   "source": [
    "#Complementariedad quinta restriccion problema productor y dual gamma\n",
    "@mapping(m, total_allowances[i in 1:tecnologias, w in 1:escenarios], A[i] + sum(P[w,i,j] for j in 1:tecnologias if j!=i)  - V[i,w] - sum(Q_second[i,tau2,w]*epsilon[i] for tau2 in 1:periodos) - Q_first[i]*epsilon[i] )  # se prueba eliminando de la sumatoria el P[i,i,w] por medio de una resta, ya que no supe como imponer un j distinto de i para la sumatoria\n",
    "#@constraint(m, mayor11[i in 1:tecnologias, w in 1:escenarios], gamma[i,w] >= 0 )\n",
    "@complementarity(m, total_allowances, gamma)\n"
   ]
  },
  {
   "cell_type": "code",
   "execution_count": null,
   "id": "c42bcf8e",
   "metadata": {},
   "outputs": [],
   "source": [
    "### Market Clearing Constraint\n",
    "# Primera restriccion de condiciones de mercado y dual pi_a\n",
    "@mapping(m, kkt_A_theta, theta - sum(A[i] for i in 1:tecnologias))\n",
    "#@constraint(m, mayor12, pi_a >= 0)\n",
    "@complementarity(m, kkt_A_theta, pi_a)\n"
   ]
  },
  {
   "cell_type": "code",
   "execution_count": null,
   "id": "15bf8577",
   "metadata": {},
   "outputs": [],
   "source": [
    "#Segunda restriccion de condiciones de mercado y dual piv\n",
    "@mapping(m, kkt_P_V[i in 1:tecnologias, w in 1:escenarios], V[i,w] - sum(P[w,i,j] for j in 1:tecnologias if j!=i))  # se prueba eliminando de la sumatoria el P[i,i,w] por medio de una resta, ya que no supe como imponer un j distinto de i para la sumatoria\n",
    "#@constraint(m, mayor13[i in 1:tecnologias, w in 1:escenarios], pi_v[i,w] >= 0)\n",
    "@complementarity(m, kkt_P_V, pi_v)\n"
   ]
  },
  {
   "cell_type": "code",
   "execution_count": null,
   "id": "652d4196",
   "metadata": {},
   "outputs": [],
   "source": [
    "#Tercera restriccion de condiciones de mercado y dual pid\n",
    "@mapping(m, kkt_Q_D_first, sum(Q_first[i] for i in 1:tecnologias) - D1 )\n",
    "#@constraint(m, mayor14, pi_d >= 0)\n",
    "@complementarity(m, kkt_Q_D_first, pi_d)\n"
   ]
  },
  {
   "cell_type": "code",
   "execution_count": null,
   "id": "96831361",
   "metadata": {},
   "outputs": [],
   "source": [
    "#Cuarta restricción de condicones de mercado y dual pi2d\n",
    "@mapping(m, kkt_Q_D_second[tau2 in 1:periodos, w in 1:escenarios], sum(Q_second[i,tau2,w] for i in 1:tecnologias) - D2[w,tau2])\n",
    "#@constraint(m, mayor15[tau2 in 1:periodos, w in 1:escenarios], pi2_d[tau2,w] >= 0)\n",
    "@complementarity(m, kkt_Q_D_second, pi2_d)\n"
   ]
  },
  {
   "cell_type": "code",
   "execution_count": null,
   "id": "db10684d",
   "metadata": {},
   "outputs": [],
   "source": [
    "### Subastador\n",
    "#kkt subastador\n",
    "@mapping(m, kkt_auctioneer, eta - pi_a )  \n",
    "#@constraint(m, mayor16, theta >= 0)\n",
    "@complementarity(m, kkt_auctioneer, theta)\n"
   ]
  },
  {
   "cell_type": "code",
   "execution_count": null,
   "id": "8a0b8277",
   "metadata": {},
   "outputs": [],
   "source": [
    "# restriccion subastador\n",
    "@mapping(m, theta_const, PhiRisk*Std - theta + mean )  \n",
    "#@constraint(m, mayor17, eta >= 0)\n",
    "@complementarity(m, theta_const, eta)\n"
   ]
  },
  {
   "cell_type": "markdown",
   "id": "d34f12eb",
   "metadata": {},
   "source": [
    "## Variables Fijadas"
   ]
  },
  {
   "cell_type": "code",
   "execution_count": null,
   "id": "14957f79",
   "metadata": {},
   "outputs": [],
   "source": [
    "for i in 1:tecnologias\n",
    "    fix(x_first[i], 0; force = true)\n",
    "end"
   ]
  },
  {
   "cell_type": "code",
   "execution_count": null,
   "id": "136a953c",
   "metadata": {},
   "outputs": [],
   "source": [
    "for tau2 in 1:periodos\n",
    "    for w in 1:escenarios\n",
    "        set_upper_bound(Q_second[1,tau2,w], 2000*t_year*CF[1])\n",
    "        set_upper_bound(Q_second[3,tau2,w], 37477*t_year*CF[3])\n",
    "        set_upper_bound(Q_second[5,tau2,w], 662*t_year*CF[5])\n",
    "        set_upper_bound(Q_second[6,tau2,w], 4521*t_year*CF[6])\n",
    "        set_upper_bound(Q_second[7,tau2,w], 4293*t_year*CF[7])\n",
    "        set_upper_bound(Q_second[8,tau2,w], 3958*t_year*CF[8])\n",
    "        set_upper_bound(Q_second[10,tau2,w], 1263407*t_year*CF[10])\n",
    "    end\n",
    "end\n",
    "\n"
   ]
  },
  {
   "cell_type": "code",
   "execution_count": null,
   "id": "e3bea2f5",
   "metadata": {},
   "outputs": [],
   "source": [
    "#Fix variables due to incomplete investment pattern\n",
    "@constraint(m, fix9[i in 1:tecnologias, tau2 in tau2_i[i]:periodos, w in escenarios], x_next[i,tau2,w] == 0)\n",
    "for i in 1:tecnologias\n",
    "    for tau2 in tau2_i[i]:periodos\n",
    "        for w in escenarios\n",
    "            fix(x_next[i,tau2,w], 0; force = true)\n",
    "        end\n",
    "    end\n",
    "end\n",
    "\n"
   ]
  },
  {
   "cell_type": "code",
   "execution_count": null,
   "id": "9b2a6f50",
   "metadata": {},
   "outputs": [],
   "source": [
    "#Fix variables de compra de permisos en primera etapa \n",
    "fix(A[10], 0; force = true)\n",
    "fix(A[3], 0; force = true)\n",
    "fix(A[1], 0; force = true)\n",
    "fix(A[5], 0; force = true)\n",
    "fix(A[6], 0; force = true)\n",
    "fix(A[7], 0; force = true)\n",
    "fix(A[8], 0; force = true)"
   ]
  },
  {
   "cell_type": "code",
   "execution_count": null,
   "id": "16c6b998",
   "metadata": {},
   "outputs": [],
   "source": [
    "#Fix variables de venta de permisos\n",
    "for w in 1:escenarios\n",
    "    fix(V[10,w], 0; force = true)\n",
    "    fix(V[3,w], 0; force = true)\n",
    "    fix(V[1,w], 0; force = true)\n",
    "    fix(V[5,w], 0; force = true)\n",
    "    fix(V[6,w], 0; force = true)\n",
    "    fix(V[7,w], 0; force = true)\n",
    "    fix(V[8,w], 0; force = true)\n",
    "end\n"
   ]
  },
  {
   "cell_type": "markdown",
   "id": "b641138e",
   "metadata": {},
   "source": [
    "## Solucionando"
   ]
  },
  {
   "cell_type": "code",
   "execution_count": null,
   "id": "ec5c8986",
   "metadata": {},
   "outputs": [],
   "source": [
    "#status = solveMCP(m, solver=:PATH, convergence_tolerance=1e-8, output=\"yes\", time_limit=3600)\n",
    "status = solveMCP(m, solver=:PATH, minor_iteration_limit= 100000 )\n",
    "#status = solveMCP(m, solver=:NLsolve) \n",
    "#@show result_value.(h)\n",
    "#@show result_value.(u)"
   ]
  },
  {
   "cell_type": "code",
   "execution_count": null,
   "id": "e76e0bc6",
   "metadata": {},
   "outputs": [],
   "source": [
    "@show result_value.(theta)"
   ]
  },
  {
   "cell_type": "code",
   "execution_count": null,
   "id": "1768684f",
   "metadata": {},
   "outputs": [],
   "source": [
    "@show status"
   ]
  }
 ],
 "metadata": {
  "kernelspec": {
   "display_name": "Julia 1.7.2",
   "language": "julia",
   "name": "julia-1.7"
  },
  "language_info": {
   "file_extension": ".jl",
   "mimetype": "application/julia",
   "name": "julia",
   "version": "1.7.2"
  }
 },
 "nbformat": 4,
 "nbformat_minor": 5
}
